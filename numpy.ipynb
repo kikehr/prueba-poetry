{
 "cells": [
  {
   "cell_type": "code",
   "execution_count": 1,
   "metadata": {},
   "outputs": [
    {
     "name": "stdout",
     "output_type": "stream",
     "text": [
      "Original array:\n",
      " [1 2 3 4 5]\n",
      "Shape of array:  (5,) \n",
      "\n",
      "Sum:  15\n",
      "Min:  1\n",
      "Max:  5\n",
      "Mean:  3.0\n"
     ]
    }
   ],
   "source": [
    "import numpy as np\n",
    "\n",
    "# 1-D array\n",
    "arr = np.array([1, 2, 3, 4, 5])\n",
    "print(\"Original array:\\n\", arr)\n",
    "print(\"Shape of array: \", arr.shape, \"\\n\")\n",
    "\n",
    "# Operations along the axis\n",
    "print(\"Sum: \", np.sum(arr, axis=0))\n",
    "print(\"Min: \", np.min(arr, axis=0))\n",
    "print(\"Max: \", np.max(arr, axis=0))\n",
    "print(\"Mean: \", np.mean(arr, axis=0))"
   ]
  }
 ],
 "metadata": {
  "kernelspec": {
   "display_name": ".venv",
   "language": "python",
   "name": "python3"
  },
  "language_info": {
   "codemirror_mode": {
    "name": "ipython",
    "version": 3
   },
   "file_extension": ".py",
   "mimetype": "text/x-python",
   "name": "python",
   "nbconvert_exporter": "python",
   "pygments_lexer": "ipython3",
   "version": "3.9.19"
  }
 },
 "nbformat": 4,
 "nbformat_minor": 2
}
